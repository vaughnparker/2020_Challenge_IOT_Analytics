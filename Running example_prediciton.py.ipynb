{
 "cells": [
  {
   "cell_type": "code",
   "execution_count": 1,
   "metadata": {
    "ExecuteTime": {
     "end_time": "2020-03-01T15:32:38.495397Z",
     "start_time": "2020-03-01T15:32:37.416798Z"
    }
   },
   "outputs": [],
   "source": [
    "import h5py\n",
    "import os\n",
    "import matplotlib.pyplot as plt\n",
    "import numpy as np"
   ]
  },
  {
   "cell_type": "code",
   "execution_count": 2,
   "metadata": {
    "ExecuteTime": {
     "end_time": "2020-03-01T15:32:39.297746Z",
     "start_time": "2020-03-01T15:32:38.500613Z"
    }
   },
   "outputs": [],
   "source": [
    "from scipy.stats import pearsonr\n",
    "# seed random number generator"
   ]
  },
  {
   "cell_type": "code",
   "execution_count": 3,
   "metadata": {
    "ExecuteTime": {
     "end_time": "2020-03-01T15:32:39.313965Z",
     "start_time": "2020-03-01T15:32:39.303338Z"
    }
   },
   "outputs": [],
   "source": [
    "cwd = os.getcwd()\n",
    "\n",
    "#Open the data file\n",
    "filepath = cwd + '/demo.hdf'\n",
    "f = h5py.File(filepath, 'r')"
   ]
  },
  {
   "cell_type": "code",
   "execution_count": 4,
   "metadata": {
    "ExecuteTime": {
     "end_time": "2020-03-01T15:32:39.574712Z",
     "start_time": "2020-03-01T15:32:39.565022Z"
    }
   },
   "outputs": [],
   "source": [
    "#Show all channels available in file\n",
    "chanIDs = f['DYNAMIC DATA']"
   ]
  },
  {
   "cell_type": "code",
   "execution_count": 6,
   "metadata": {
    "ExecuteTime": {
     "end_time": "2020-03-01T15:32:45.306824Z",
     "start_time": "2020-03-01T15:32:45.291832Z"
    }
   },
   "outputs": [],
   "source": [
    "#Plot a sample dataset\n",
    "ChannelNameA = 'ch_0'\n",
    "ChannelNameB = 'ch_10'\n",
    "dset1 = chanIDs[ChannelNameA]['MEASURED']\n",
    "dset2 = chanIDs[ChannelNameB]['MEASURED']\n",
    "\n",
    "#Attempting to predict channel 0 with channel 10's data\n",
    "# Try to predict by multiply by pi???\n",
    "dset1_prediction = dset2[()] * np.pi"
   ]
  },
  {
   "cell_type": "code",
   "execution_count": 7,
   "metadata": {
    "ExecuteTime": {
     "end_time": "2020-03-01T15:32:52.796542Z",
     "start_time": "2020-03-01T15:32:52.777634Z"
    }
   },
   "outputs": [
    {
     "data": {
      "text/plain": [
       "array([   0.,    0.,    0., ..., 3584., 3584., 3584.], dtype=float32)"
      ]
     },
     "execution_count": 7,
     "metadata": {},
     "output_type": "execute_result"
    }
   ],
   "source": [
    "np.array(dset2)"
   ]
  },
  {
   "cell_type": "code",
   "execution_count": 8,
   "metadata": {
    "ExecuteTime": {
     "end_time": "2020-03-01T15:32:53.629092Z",
     "start_time": "2020-03-01T15:32:53.619530Z"
    }
   },
   "outputs": [],
   "source": [
    "#Plot a sample dataset\n",
    "ChannelNameA = 'ch_0'\n",
    "ChannelNameB = 'ch_10'\n",
    "dset1 = chanIDs[ChannelNameA]['MEASURED']\n",
    "dset2 = chanIDs[ChannelNameB]['MEASURED']\n",
    "\n",
    "#Attempting to predict channel 0 with channel 10's data\n",
    "# Try to predict by multiply by pi???\n",
    "dset1_prediction = dset2[()] * np.pi"
   ]
  },
  {
   "cell_type": "code",
   "execution_count": 9,
   "metadata": {
    "ExecuteTime": {
     "end_time": "2020-03-01T15:32:54.658220Z",
     "start_time": "2020-03-01T15:32:54.463910Z"
    }
   },
   "outputs": [
    {
     "data": {
      "image/png": "[encoded data removed]",
      "text/plain": [
       "<Figure size 432x288 with 1 Axes>"
      ]
     },
     "metadata": {
      "needs_background": "light"
     },
     "output_type": "display_data"
    }
   ],
   "source": [
    "#Plot a sample dataset\n",
    "plt.plot(np.arange(len(dset1[()])), dset1[()],np.arange(len(dset1_prediction)),dset1_prediction) # plotting by columns\n",
    "plt.title(\"plot of ch0 and ch0 prediction\")\n",
    "plt.xlabel(\"Datapoint #\")\n",
    "plt.ylabel(\"Value\")\n",
    "plt.show()"
   ]
  },
  {
   "cell_type": "code",
   "execution_count": 61,
   "metadata": {
    "ExecuteTime": {
     "end_time": "2020-02-29T23:18:53.519452Z",
     "start_time": "2020-02-29T23:18:53.507817Z"
    }
   },
   "outputs": [
    {
     "name": "stdout",
     "output_type": "stream",
     "text": [
      "Mean Absolute Error : 7070.158\n"
     ]
    }
   ],
   "source": [
    "error = np.mean(abs(dset1 - dset1_prediction))\n",
    "print(\"Mean Absolute Error : \" + str(error))\n",
    "\n",
    "#Close the file\n",
    "#f.close()"
   ]
  },
  {
   "cell_type": "code",
   "execution_count": 62,
   "metadata": {
    "ExecuteTime": {
     "end_time": "2020-02-29T23:18:53.897193Z",
     "start_time": "2020-02-29T23:18:53.886810Z"
    }
   },
   "outputs": [
    {
     "data": {
      "text/plain": [
       "7070.158"
      ]
     },
     "execution_count": 62,
     "metadata": {},
     "output_type": "execute_result"
    }
   ],
   "source": [
    "np.mean(abs(dset1 - dset1_prediction))"
   ]
  },
  {
   "cell_type": "code",
   "execution_count": 63,
   "metadata": {
    "ExecuteTime": {
     "end_time": "2020-02-29T23:18:54.181484Z",
     "start_time": "2020-02-29T23:18:54.167972Z"
    }
   },
   "outputs": [
    {
     "data": {
      "text/plain": [
       "4182.6836"
      ]
     },
     "execution_count": 63,
     "metadata": {},
     "output_type": "execute_result"
    }
   ],
   "source": [
    "np.mean(abs(np.array(dset1)))"
   ]
  },
  {
   "cell_type": "code",
   "execution_count": null,
   "metadata": {},
   "outputs": [],
   "source": []
  }
 ],
 "metadata": {
  "kernelspec": {
   "display_name": "Python 3",
   "language": "python",
   "name": "python3"
  },
  "language_info": {
   "codemirror_mode": {
    "name": "ipython",
    "version": 3
   },
   "file_extension": ".py",
   "mimetype": "text/x-python",
   "name": "python",
   "nbconvert_exporter": "python",
   "pygments_lexer": "ipython3",
   "version": "3.7.1"
  }
 },
 "nbformat": 4,
 "nbformat_minor": 2
}
