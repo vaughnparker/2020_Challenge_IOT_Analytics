{
 "cells": [
  {
   "cell_type": "markdown",
   "metadata": {},
   "source": [
    "# example_correlation.py"
   ]
  },
  {
   "cell_type": "code",
   "execution_count": 1,
   "metadata": {
    "ExecuteTime": {
     "end_time": "2020-02-29T20:44:36.275994Z",
     "start_time": "2020-02-29T20:44:33.291969Z"
    }
   },
   "outputs": [],
   "source": [
    "import h5py\n",
    "import os\n",
    "import matplotlib.pyplot as plt\n",
    "import numpy as np\n",
    "\n",
    "from scipy.stats import pearsonr\n",
    "# seed random number generator"
   ]
  },
  {
   "cell_type": "code",
   "execution_count": 4,
   "metadata": {
    "ExecuteTime": {
     "end_time": "2020-02-29T20:45:08.019937Z",
     "start_time": "2020-02-29T20:45:07.993596Z"
    }
   },
   "outputs": [
    {
     "data": {
      "text/plain": [
       "<HDF5 file \"demo.hdf\" (mode r)>"
      ]
     },
     "execution_count": 4,
     "metadata": {},
     "output_type": "execute_result"
    }
   ],
   "source": [
    "cwd = os.getcwd()\n",
    "\n",
    "#Open the data file\n",
    "filepath = cwd + '/demo.hdf'\n",
    "f = h5py.File(filepath, 'r')\n",
    "f"
   ]
  },
  {
   "cell_type": "code",
   "execution_count": 5,
   "metadata": {
    "ExecuteTime": {
     "end_time": "2020-02-29T20:45:12.394772Z",
     "start_time": "2020-02-29T20:45:12.375571Z"
    }
   },
   "outputs": [
    {
     "data": {
      "text/plain": [
       "<HDF5 group \"/DYNAMIC DATA\" (142 members)>"
      ]
     },
     "execution_count": 5,
     "metadata": {},
     "output_type": "execute_result"
    }
   ],
   "source": [
    "#Show all channels available in file\n",
    "chanIDs = f['DYNAMIC DATA']\n",
    "chanIDs"
   ]
  },
  {
   "cell_type": "code",
   "execution_count": 16,
   "metadata": {
    "ExecuteTime": {
     "end_time": "2020-02-29T20:46:23.880999Z",
     "start_time": "2020-02-29T20:46:23.873501Z"
    }
   },
   "outputs": [],
   "source": [
    "#Plot a sample dataset\n",
    "ChannelNameA = 'ch_0'\n",
    "ChannelNameB = 'ch_10'\n",
    "dset1 = chanIDs[ChannelNameA]['MEASURED']\n",
    "dset2 = chanIDs[ChannelNameB]['MEASURED']"
   ]
  },
  {
   "cell_type": "code",
   "execution_count": 17,
   "metadata": {
    "ExecuteTime": {
     "end_time": "2020-02-29T20:46:24.048438Z",
     "start_time": "2020-02-29T20:46:24.032449Z"
    }
   },
   "outputs": [
    {
     "data": {
      "text/plain": [
       "<HDF5 dataset \"MEASURED\": shape (16748,), type \">f4\">"
      ]
     },
     "execution_count": 17,
     "metadata": {},
     "output_type": "execute_result"
    }
   ],
   "source": [
    "dset1"
   ]
  },
  {
   "cell_type": "code",
   "execution_count": 18,
   "metadata": {
    "ExecuteTime": {
     "end_time": "2020-02-29T20:46:24.194631Z",
     "start_time": "2020-02-29T20:46:24.184854Z"
    }
   },
   "outputs": [
    {
     "data": {
      "text/plain": [
       "<HDF5 dataset \"MEASURED\": shape (16748,), type \">f4\">"
      ]
     },
     "execution_count": 18,
     "metadata": {},
     "output_type": "execute_result"
    }
   ],
   "source": [
    "dset2"
   ]
  },
  {
   "cell_type": "code",
   "execution_count": 20,
   "metadata": {
    "ExecuteTime": {
     "end_time": "2020-02-29T20:46:33.738761Z",
     "start_time": "2020-02-29T20:46:33.711749Z"
    }
   },
   "outputs": [
    {
     "name": "stdout",
     "output_type": "stream",
     "text": [
      "Pearsons correlation: 0.331\n"
     ]
    },
    {
     "data": {
      "text/plain": [
       "0.33092436"
      ]
     },
     "execution_count": 20,
     "metadata": {},
     "output_type": "execute_result"
    }
   ],
   "source": [
    "corr, _ = pearsonr(dset1, dset2)\n",
    "print('Pearsons correlation: %.3f' % corr)"
   ]
  },
  {
   "cell_type": "code",
   "execution_count": 22,
   "metadata": {
    "ExecuteTime": {
     "end_time": "2020-02-29T20:47:15.376749Z",
     "start_time": "2020-02-29T20:47:15.110112Z"
    }
   },
   "outputs": [
    {
     "data": {
      "image/png": "[encoded data removed]",
      "text/plain": [
       "<Figure size 432x288 with 1 Axes>"
      ]
     },
     "metadata": {
      "needs_background": "light"
     },
     "output_type": "display_data"
    }
   ],
   "source": [
    "#Plot a sample dataset\n",
    "plt.plot(np.arange(len(dset1[()])), dset1[()],np.arange(len(dset2[()])),dset2[()]) # plotting by columns\n",
    "plt.title(\"plot of ch0 and ch10\")\n",
    "plt.xlabel(\"Datapoint #\")\n",
    "plt.ylabel(\"Value\")\n",
    "plt.show()\n",
    "\n",
    "\n",
    "#Close the file\n",
    "f.close()"
   ]
  }
 ],
 "metadata": {
  "kernelspec": {
   "display_name": "Python 3",
   "language": "python",
   "name": "python3"
  },
  "language_info": {
   "codemirror_mode": {
    "name": "ipython",
    "version": 3
   },
   "file_extension": ".py",
   "mimetype": "text/x-python",
   "name": "python",
   "nbconvert_exporter": "python",
   "pygments_lexer": "ipython3",
   "version": "3.7.1"
  }
 },
 "nbformat": 4,
 "nbformat_minor": 2
}
