{
 "cells": [
  {
   "cell_type": "code",
   "execution_count": 1,
   "metadata": {
    "ExecuteTime": {
     "end_time": "2020-02-29T23:04:43.105880Z",
     "start_time": "2020-02-29T23:04:41.982893Z"
    }
   },
   "outputs": [],
   "source": [
    "import h5py\n",
    "import os\n",
    "import matplotlib.pyplot as plt\n",
    "cwd = os.getcwd()"
   ]
  },
  {
   "cell_type": "code",
   "execution_count": 3,
   "metadata": {
    "ExecuteTime": {
     "end_time": "2020-02-29T23:04:48.344801Z",
     "start_time": "2020-02-29T23:04:48.339654Z"
    }
   },
   "outputs": [],
   "source": [
    "#Open the data file\n",
    "filepath = cwd + '/demo.hdf'\n",
    "f = h5py.File(filepath, 'r')"
   ]
  },
  {
   "cell_type": "code",
   "execution_count": 4,
   "metadata": {
    "ExecuteTime": {
     "end_time": "2020-02-29T23:04:54.699866Z",
     "start_time": "2020-02-29T23:04:54.692656Z"
    }
   },
   "outputs": [],
   "source": [
    "#Show all channels available in file\n",
    "chanIDs = f['DYNAMIC DATA']"
   ]
  },
  {
   "cell_type": "code",
   "execution_count": 5,
   "metadata": {
    "ExecuteTime": {
     "end_time": "2020-02-29T23:04:54.859092Z",
     "start_time": "2020-02-29T23:04:54.851424Z"
    }
   },
   "outputs": [
    {
     "name": "stdout",
     "output_type": "stream",
     "text": [
      "Channels available in this data file\n",
      "['ch_0', 'ch_1', 'ch_10', 'ch_100', 'ch_101', 'ch_102', 'ch_103', 'ch_104', 'ch_105', 'ch_106', 'ch_107', 'ch_108', 'ch_109', 'ch_11', 'ch_110', 'ch_111', 'ch_112', 'ch_113', 'ch_114', 'ch_115', 'ch_116', 'ch_117', 'ch_118', 'ch_119', 'ch_12', 'ch_120', 'ch_121', 'ch_122', 'ch_123', 'ch_124', 'ch_125', 'ch_126', 'ch_127', 'ch_128', 'ch_129', 'ch_13', 'ch_130', 'ch_131', 'ch_132', 'ch_133', 'ch_134', 'ch_135', 'ch_136', 'ch_137', 'ch_138', 'ch_139', 'ch_14', 'ch_140', 'ch_141', 'ch_15', 'ch_16', 'ch_17', 'ch_18', 'ch_19', 'ch_2', 'ch_20', 'ch_21', 'ch_22', 'ch_23', 'ch_24', 'ch_25', 'ch_26', 'ch_27', 'ch_28', 'ch_29', 'ch_3', 'ch_30', 'ch_31', 'ch_32', 'ch_33', 'ch_34', 'ch_35', 'ch_36', 'ch_37', 'ch_38', 'ch_39', 'ch_4', 'ch_40', 'ch_41', 'ch_42', 'ch_43', 'ch_44', 'ch_45', 'ch_46', 'ch_47', 'ch_48', 'ch_49', 'ch_5', 'ch_50', 'ch_51', 'ch_52', 'ch_53', 'ch_54', 'ch_55', 'ch_56', 'ch_57', 'ch_58', 'ch_59', 'ch_6', 'ch_60', 'ch_61', 'ch_62', 'ch_63', 'ch_64', 'ch_65', 'ch_66', 'ch_67', 'ch_68', 'ch_69', 'ch_7', 'ch_70', 'ch_71', 'ch_72', 'ch_73', 'ch_74', 'ch_75', 'ch_76', 'ch_77', 'ch_78', 'ch_79', 'ch_8', 'ch_80', 'ch_81', 'ch_82', 'ch_83', 'ch_84', 'ch_85', 'ch_86', 'ch_87', 'ch_88', 'ch_89', 'ch_9', 'ch_90', 'ch_91', 'ch_92', 'ch_93', 'ch_94', 'ch_95', 'ch_96', 'ch_97', 'ch_98', 'ch_99']\n"
     ]
    }
   ],
   "source": [
    "print(\"Channels available in this data file\")\n",
    "print(list(chanIDs.keys()))"
   ]
  },
  {
   "cell_type": "code",
   "execution_count": 6,
   "metadata": {
    "ExecuteTime": {
     "end_time": "2020-02-29T23:05:00.475014Z",
     "start_time": "2020-02-29T23:05:00.283092Z"
    }
   },
   "outputs": [
    {
     "data": {
      "image/png": "[encoded data removed]",
      "text/plain": [
       "<Figure size 432x288 with 1 Axes>"
      ]
     },
     "metadata": {
      "needs_background": "light"
     },
     "output_type": "display_data"
    }
   ],
   "source": [
    "#Plot a sample dataset\n",
    "ChannelName = 'ch_0'\n",
    "dset = chanIDs[ChannelName]['MEASURED']\n",
    "plt.plot(dset[()]) # plotting by columns\n",
    "plt.title(\"Value of \" + ChannelName)\n",
    "plt.xlabel(\"Datapoint #\")\n",
    "plt.ylabel(\"Value\")\n",
    "plt.show()"
   ]
  },
  {
   "cell_type": "code",
   "execution_count": null,
   "metadata": {},
   "outputs": [],
   "source": [
    "#Close the file\n",
    "f.close()"
   ]
  }
 ],
 "metadata": {
  "kernelspec": {
   "display_name": "Python 3",
   "language": "python",
   "name": "python3"
  },
  "language_info": {
   "codemirror_mode": {
    "name": "ipython",
    "version": 3
   },
   "file_extension": ".py",
   "mimetype": "text/x-python",
   "name": "python",
   "nbconvert_exporter": "python",
   "pygments_lexer": "ipython3",
   "version": "3.7.1"
  }
 },
 "nbformat": 4,
 "nbformat_minor": 2
}
